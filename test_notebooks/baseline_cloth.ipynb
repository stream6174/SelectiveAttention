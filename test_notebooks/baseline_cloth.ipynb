{
 "cells": [
  {
   "cell_type": "markdown",
   "source": [
    "tensorflow version"
   ],
   "metadata": {
    "collapsed": false
   },
   "id": "eec6e2bc0c92b54a"
  },
  {
   "cell_type": "code",
   "execution_count": 1,
   "id": "initial_id",
   "metadata": {
    "collapsed": true,
    "ExecuteTime": {
     "end_time": "2024-12-08T02:40:11.785016Z",
     "start_time": "2024-12-08T02:40:00.142568Z"
    }
   },
   "outputs": [
    {
     "name": "stderr",
     "output_type": "stream",
     "text": [
      "2024-12-08 10:40:03.256299: I tensorflow/core/platform/cpu_feature_guard.cc:182] This TensorFlow binary is optimized to use available CPU instructions in performance-critical operations.\n",
      "To enable the following instructions: AVX2 FMA, in other operations, rebuild TensorFlow with the appropriate compiler flags.\n"
     ]
    },
    {
     "name": "stdout",
     "output_type": "stream",
     "text": [
      "2.12.0\n"
     ]
    }
   ],
   "source": [
    "import tensorflow as tf\n",
    "\n",
    "import numpy as np\n",
    "import matplotlib.pyplot as plt\n",
    "\n",
    "print(tf.__version__)"
   ]
  },
  {
   "cell_type": "markdown",
   "source": [
    "if use GPUs"
   ],
   "metadata": {
    "collapsed": false
   },
   "id": "6687dadd34a8c25f"
  },
  {
   "cell_type": "code",
   "outputs": [],
   "source": [
    "gpus = tf.config.list_physical_devices('GPU')\n",
    "if gpus:\n",
    "    tf.config.set_visible_devices(gpus[0], 'GPU')\n",
    "    for gpu in gpus:\n",
    "        tf.config.experimental.set_memory_growth(gpu, True)"
   ],
   "metadata": {
    "collapsed": false,
    "ExecuteTime": {
     "end_time": "2024-12-08T02:40:11.791185Z",
     "start_time": "2024-12-08T02:40:11.787512Z"
    }
   },
   "id": "9211d885948c05e8",
   "execution_count": 2
  },
  {
   "cell_type": "markdown",
   "source": [
    "load MNIST fashion dataset"
   ],
   "metadata": {
    "collapsed": false
   },
   "id": "ee73934ddab25c17"
  },
  {
   "cell_type": "code",
   "outputs": [],
   "source": [
    "fashion_mnist = tf.keras.datasets.fashion_mnist\n",
    "\n",
    "(train_images, train_labels), (test_images, test_labels) = fashion_mnist.load_data()"
   ],
   "metadata": {
    "collapsed": false,
    "ExecuteTime": {
     "end_time": "2024-12-08T02:40:12.301044Z",
     "start_time": "2024-12-08T02:40:11.792814Z"
    }
   },
   "id": "d66023fcfc8248ea",
   "execution_count": 3
  },
  {
   "cell_type": "markdown",
   "source": [
    "load classes"
   ],
   "metadata": {
    "collapsed": false
   },
   "id": "be12a274ffbfbf0e"
  },
  {
   "cell_type": "code",
   "outputs": [],
   "source": [
    "class_names = ['T-shirt/top', 'Trouser', 'Pullover', 'Dress', 'Coat',\n",
    "               'Sandal', 'Shirt', 'Sneaker', 'Bag', 'Ankle boot']"
   ],
   "metadata": {
    "collapsed": false,
    "ExecuteTime": {
     "end_time": "2024-12-08T02:40:12.307637Z",
     "start_time": "2024-12-08T02:40:12.303800Z"
    }
   },
   "id": "3c4ad14c8fe1cf13",
   "execution_count": 4
  },
  {
   "cell_type": "markdown",
   "source": [
    "plot sample image"
   ],
   "metadata": {
    "collapsed": false
   },
   "id": "6cbd32ad5d6e2273"
  },
  {
   "cell_type": "code",
   "outputs": [
    {
     "data": {
      "text/plain": "<Figure size 640x480 with 2 Axes>",
      "image/png": "[encoded data removed]"
     },
     "metadata": {},
     "output_type": "display_data"
    }
   ],
   "source": [
    "plt.figure()\n",
    "plt.imshow(train_images[0])\n",
    "plt.colorbar()\n",
    "plt.grid(False)\n",
    "plt.show()"
   ],
   "metadata": {
    "collapsed": false,
    "ExecuteTime": {
     "end_time": "2024-12-08T02:40:12.732535Z",
     "start_time": "2024-12-08T02:40:12.311023Z"
    }
   },
   "id": "39616199987e6d23",
   "execution_count": 5
  },
  {
   "cell_type": "markdown",
   "source": [
    "preprocess datasets"
   ],
   "metadata": {
    "collapsed": false
   },
   "id": "c0defa69ae9e6440"
  },
  {
   "cell_type": "code",
   "outputs": [],
   "source": [
    "train_images = train_images / 255.0\n",
    "test_images = test_images / 255.0\n",
    "\n",
    "train_labels = train_labels / 1.0\n",
    "train_labels = np.expand_dims(train_labels, -1)\n",
    "test_labels = test_labels / 1.0\n",
    "test_labels = np.expand_dims(test_labels, -1)"
   ],
   "metadata": {
    "collapsed": false,
    "ExecuteTime": {
     "end_time": "2024-12-08T02:40:13.195474Z",
     "start_time": "2024-12-08T02:40:12.733917Z"
    }
   },
   "id": "25e31de7c404e5bb",
   "execution_count": 6
  },
  {
   "cell_type": "markdown",
   "source": [
    "implementation of model"
   ],
   "metadata": {
    "collapsed": false
   },
   "id": "d99c8af1a11db482"
  },
  {
   "cell_type": "code",
   "outputs": [],
   "source": [
    "import numpy as np\n",
    "from tensorflow.keras.layers import MultiHeadAttention\n",
    "\n",
    "def positional_encoding(length, depth):\n",
    "    depth = depth/2\n",
    "    \n",
    "    positions = np.arange(length)[:, np.newaxis]\n",
    "    depths = np.arange(depth)[np.newaxis, :]/depth\n",
    "    \n",
    "    angle_rates = 1/(10000 ** depths)\n",
    "    angle_rads = positions * angle_rates\n",
    "    \n",
    "    pos_encoding = np.concatenate(\n",
    "        [np.sin(angle_rads), np.cos(angle_rads)],\n",
    "        axis =-1\n",
    "    )\n",
    "    return tf.cast(pos_encoding, dtype=tf.float32)\n",
    "\n",
    "class PositionalEmbedding(tf.keras.layers.Layer):\n",
    "  def __init__(self, length, d_model):\n",
    "    super().__init__()\n",
    "    self.d_model = d_model\n",
    "    self.embedding = tf.keras.layers.Embedding(length, d_model, mask_zero=True) \n",
    "    self.pos_encoding = positional_encoding(length=length, depth=d_model)\n",
    "\n",
    "  def call(self, x):\n",
    "    length = tf.shape(x)[1]\n",
    "    x = self.embedding(x)\n",
    "    \n",
    "    x *= tf.math.sqrt(tf.cast(self.d_model, tf.float32))\n",
    "    x = x + self.pos_encoding[tf.newaxis, :length, :]\n",
    "    return x\n",
    "  \n",
    "def positional_encoding_2D(length, width, depth):\n",
    "    depth = depth/4\n",
    "    \n",
    "    pos_x = np.arange(width)[:, np.newaxis]\n",
    "    pos_y = np.arange(length)[:, np.newaxis]\n",
    "    depths = np.arange(depth)[np.newaxis, :]/depth\n",
    "    \n",
    "    angle_rates = 1/(10000 ** depths)\n",
    "    angle_rads_x = pos_x * angle_rates\n",
    "    angle_rads_y = pos_y * angle_rates\n",
    "    \n",
    "    pos_encoding_x = np.concatenate(\n",
    "        [np.sin(angle_rads_x), np.cos(angle_rads_x)],\n",
    "        axis =-1\n",
    "    )\n",
    "    pos_encoding_x = tf.expand_dims(pos_encoding_x, 1)\n",
    "    \n",
    "    pos_encoding_y = np.concatenate(\n",
    "        [np.sin(angle_rads_y), np.cos(angle_rads_y)],\n",
    "        axis = -1\n",
    "    )\n",
    "    \n",
    "    pos_encoding_y = tf.expand_dims(pos_encoding_y, 0)\n",
    "    \n",
    "    pos_encoding_x = tf.tile(pos_encoding_x, (1, length, 1))\n",
    "    pos_encoding_y = tf.tile(pos_encoding_y, (width, 1, 1))\n",
    "    pos_encoding = tf.concat([pos_encoding_x, pos_encoding_y], -1)\n",
    "    \n",
    "    return tf.cast(pos_encoding, dtype=tf.float32)\n",
    "\n",
    "class PositionalEmbedding2D(tf.keras.layers.Layer):\n",
    "  def __init__(self, length, width, d_model):\n",
    "    super().__init__()\n",
    "    self.length = length\n",
    "    self.width = width\n",
    "    self.input_dim = length * width\n",
    "    self.d_model = d_model\n",
    "    self.embedding = tf.keras.layers.Embedding(input_dim=self.input_dim, output_dim=d_model, mask_zero=True) \n",
    "    self.pos_encoding = positional_encoding_2D(length=length, width=width, depth=d_model)\n",
    "\n",
    "\n",
    "  def call(self, x):\n",
    "    x = self.embedding(x)\n",
    "    \n",
    "    x *= tf.math.sqrt(tf.cast(self.d_model, tf.float32))\n",
    "    x = x + self.pos_encoding[tf.newaxis, :self.length, :self.width, :]\n",
    "    return x\n",
    "  \n",
    "class BaseAttention(tf.keras.layers.Layer):\n",
    "    def __init__(self, **kwargs):\n",
    "        super().__init__()\n",
    "        self.mha = MultiHeadAttention(**kwargs)\n",
    "        self.layer_norm = tf.keras.layers.LayerNormalization()\n",
    "        self.add = tf.keras.layers.Add()\n",
    "        \n",
    "class CrossAttention(BaseAttention):\n",
    "    def call(self, x, context):\n",
    "        \n",
    "        if len(context.shape) == 4:\n",
    "            context = tf.reduce_mean(context, axis=(1, 2), keepdims=True)\n",
    "            context = tf.squeeze(context, axis=1)\n",
    "        att_output, att_scores = self.mha(query=x,\n",
    "                                          key=context,\n",
    "                                          value=context,\n",
    "                                          return_attention_scores=True)\n",
    "        \n",
    "        self.last_att_scores = att_scores\n",
    "        x = self.add([x, att_output])\n",
    "        x = self.layer_norm(x)\n",
    "        \n",
    "        return x\n",
    "    \n",
    "class GlobalSelfAttention(BaseAttention):\n",
    "    def call(self, x):\n",
    "        \n",
    "        att_output = self.mha(query=x,\n",
    "                              key=x,\n",
    "                              value=x)\n",
    "\n",
    "        x = self.add([x, att_output])\n",
    "        x = self.layer_norm(x)\n",
    "        \n",
    "        return x\n",
    "    \n",
    "class CausalSelfAttention(BaseAttention):\n",
    "    def call(self, x):\n",
    "        att_output = self.mha(\n",
    "            query=x,\n",
    "            value=x,\n",
    "            key=x,\n",
    "            use_causal_mask=True\n",
    "        )\n",
    "        x = self.add([x, att_output])\n",
    "        x = self.layer_norm(x)\n",
    "        return x\n",
    "    \n",
    "class FeedForward(tf.keras.layers.Layer):\n",
    "    def __init__(self, dff, dropout_rate=0.1):\n",
    "        super().__init__()\n",
    "        self.seq = tf.keras.Sequential([\n",
    "            tf.keras.layers.Dense(dff, activation='relu'),\n",
    "            tf.keras.layers.Dropout(dropout_rate)\n",
    "        ])\n",
    "        self.add = tf.keras.layers.Add()\n",
    "        self.layer_norm = tf.keras.layers.LayerNormalization()\n",
    "        \n",
    "    def call(self, x):\n",
    "        x = self.add([x, self.seq(x)])\n",
    "        x = self.layer_norm(x)\n",
    "        return x\n",
    "    \n",
    "class EncoderLayer(tf.keras.layers.Layer):\n",
    "    def __init__(self, *, num_heads, dff, dropout_rate=0.1):\n",
    "        super().__init__()\n",
    "        \n",
    "        self.self_attention = GlobalSelfAttention(\n",
    "            num_heads=num_heads,\n",
    "            key_dim=dff,\n",
    "            dropout=dropout_rate\n",
    "        )\n",
    "        \n",
    "        self.ffn = FeedForward(dff)\n",
    "        \n",
    "    def call(self, x):\n",
    "        x = self.self_attention(x)\n",
    "        x = self.ffn(x)\n",
    "        return x\n",
    "    \n",
    "class Encoder(tf.keras.layers.Layer):\n",
    "    def __init__(self,\n",
    "                 *,\n",
    "                 num_layers, \n",
    "                 num_heads, \n",
    "                 dff, \n",
    "                 length,\n",
    "                 width,\n",
    "                 dropout_rate=0.1):\n",
    "        super().__init__()\n",
    "        \n",
    "        self.num_layers = num_layers\n",
    "        \n",
    "        self.pos_embedding =PositionalEmbedding2D(length, width, dff)\n",
    "        \n",
    "        self.enc_layers = [\n",
    "            EncoderLayer(num_heads=num_heads,\n",
    "                         dff=dff,\n",
    "                         dropout_rate=dropout_rate)\n",
    "            for _ in range(num_layers)\n",
    "        ]\n",
    "        self.dropout = tf.keras.layers.Dropout(dropout_rate)\n",
    "        \n",
    "    def call(self, x):\n",
    "        x = self.pos_embedding(x)\n",
    "        x = self.dropout(x)\n",
    "        \n",
    "        for i in range(self.num_layers):\n",
    "            x = self.enc_layers[i](x)\n",
    "        return x\n",
    "    \n",
    "class DecoderLayer(tf.keras.layers.Layer):\n",
    "    def __init__(self,\n",
    "                 *,\n",
    "                 num_heads,\n",
    "                 dff,\n",
    "                 dropout_rate=0.1):\n",
    "        super(DecoderLayer, self).__init__()\n",
    "       \n",
    "        self.causal_self_attention = CausalSelfAttention(\n",
    "            num_heads=num_heads,\n",
    "            key_dim=dff,\n",
    "            dropout=dropout_rate\n",
    "        )\n",
    "        \n",
    "        self.cross_attention = CrossAttention(\n",
    "            num_heads=num_heads,\n",
    "            key_dim = dff,\n",
    "            dropout=dropout_rate\n",
    "        )\n",
    "        \n",
    "        self.ffn = FeedForward(dff)\n",
    "        \n",
    "    def call(self, x, context):\n",
    "        x = self.causal_self_attention(x=x)\n",
    "        x = self.cross_attention(x=x, context=context)\n",
    "        self.last_att_scores = self.cross_attention.last_att_scores\n",
    "    \n",
    "        x = self.ffn(x)\n",
    "        return x\n",
    "    \n",
    "class Decoder(tf.keras.layers.Layer):\n",
    "    def __init__(self, \n",
    "                 *,\n",
    "                 num_layers,\n",
    "                 num_heads,\n",
    "                 dff,\n",
    "                 num_cat,\n",
    "                 dropout_rate=0.1):\n",
    "        super(Decoder, self).__init__()\n",
    "        \n",
    "        self.num_layers =num_layers\n",
    "        \n",
    "        self.pos_embedding =PositionalEmbedding(\n",
    "            num_cat,\n",
    "            dff\n",
    "        )\n",
    "        self.dropout = tf.keras.layers.Dropout(dropout_rate)\n",
    "        self.dec_layers = [\n",
    "            DecoderLayer(num_heads=num_heads,\n",
    "                         dff=dff,\n",
    "                         dropout_rate=dropout_rate)\n",
    "            for _ in range(num_layers)\n",
    "        ]\n",
    "        self.last_att_scores = None\n",
    "        \n",
    "    def call(self, x, context):\n",
    "        x = self.pos_embedding(x)\n",
    "        x = self.dropout(x)\n",
    "        \n",
    "        for i in range(self.num_layers):\n",
    "            x = self.dec_layers[i](x, context)\n",
    "        \n",
    "        self.last_att_scores = self.dec_layers[-1].last_att_scores\n",
    "        \n",
    "        return x\n",
    "    \n",
    "class Transformer(tf.keras.Model):\n",
    "    def __init__(self,\n",
    "                 *,\n",
    "                 num_layers,\n",
    "                 num_heads,\n",
    "                 dff,\n",
    "                 length,\n",
    "                 width,\n",
    "                 num_cat,\n",
    "                 dropout_rate=0.1):\n",
    "        super().__init__()\n",
    "        self.encoder = Encoder(\n",
    "            num_layers=num_layers,\n",
    "            num_heads=num_heads,\n",
    "            dff=dff,\n",
    "            length=length,\n",
    "            width=width,\n",
    "            dropout_rate=dropout_rate\n",
    "        )\n",
    "        self.decoder = Decoder(\n",
    "            num_layers=num_layers,\n",
    "            num_heads=num_heads,\n",
    "            dff=dff,\n",
    "            num_cat=num_cat,\n",
    "            dropout_rate=dropout_rate\n",
    "        )\n",
    "        self.final_layer = tf.keras.layers.Dense(num_cat)\n",
    "    \n",
    "    def call(self, inputs):\n",
    "        context, x = inputs\n",
    "        context = self.encoder(context)\n",
    "        x = self.decoder(x, context)\n",
    "        logits = self.final_layer(x)\n",
    "        \n",
    "        return logits\n",
    "\n",
    "class CustomSchedule(tf.keras.optimizers.schedules.LearningRateSchedule):\n",
    "  def __init__(self, d_model, warmup_steps=4000):\n",
    "    super().__init__()\n",
    "\n",
    "    self.d_model = d_model\n",
    "    self.d_model = tf.cast(self.d_model, tf.float32)\n",
    "\n",
    "    self.warmup_steps = warmup_steps\n",
    "\n",
    "  def __call__(self, step):\n",
    "    step = tf.cast(step, dtype=tf.float32)\n",
    "    arg1 = tf.math.rsqrt(step)\n",
    "    arg2 = step * (self.warmup_steps ** -1.5)\n",
    "\n",
    "    return tf.math.rsqrt(self.d_model) * tf.math.minimum(arg1, arg2)\n",
    "\n",
    "def masked_loss(label, pred):\n",
    "  \n",
    "  mask = label != 0\n",
    "  loss_object = tf.keras.losses.SparseCategoricalCrossentropy(\n",
    "    from_logits=True, reduction='none')\n",
    "  loss = loss_object(label, pred)\n",
    "\n",
    "  mask = tf.cast(mask, dtype=loss.dtype)\n",
    "  loss *= mask\n",
    "\n",
    "  loss = tf.reduce_sum(loss)/tf.reduce_sum(mask)\n",
    "  return loss\n",
    "\n",
    "\n",
    "def masked_accuracy(label, pred):\n",
    "  pred = tf.argmax(pred, axis=2)\n",
    "  label = tf.cast(label, pred.dtype)\n",
    "  match = label == pred\n",
    "\n",
    "  mask = label != 0\n",
    "\n",
    "  match = match & mask\n",
    "\n",
    "  match = tf.cast(match, dtype=tf.float32)\n",
    "  mask = tf.cast(mask, dtype=tf.float32)\n",
    "  return tf.reduce_sum(match)/tf.reduce_sum(mask)"
   ],
   "metadata": {
    "collapsed": false,
    "ExecuteTime": {
     "end_time": "2024-12-08T02:40:13.258734Z",
     "start_time": "2024-12-08T02:40:13.198948Z"
    }
   },
   "id": "5decf407aa5fda27",
   "execution_count": 7
  },
  {
   "cell_type": "markdown",
   "source": [
    "build model"
   ],
   "metadata": {
    "collapsed": false
   },
   "id": "11423b929fcca581"
  },
  {
   "cell_type": "code",
   "outputs": [],
   "source": [
    "transformer = Transformer(\n",
    "    num_layers=6,\n",
    "    num_heads=4,\n",
    "    dff=16,\n",
    "    length=28,\n",
    "    width=28,\n",
    "    num_cat=10,\n",
    "    dropout_rate=0.1\n",
    ")\n",
    "dff = 16\n",
    "learning_rate = CustomSchedule(dff)\n",
    "\n",
    "optimizer = tf.keras.optimizers.Adam(learning_rate, beta_1=0.9, beta_2=0.98,\n",
    "                                     epsilon=1e-9)\n",
    "'''\n",
    "transformer.compile(\n",
    "    loss=masked_loss,\n",
    "    optimizer=optimizer,\n",
    "    metrics=[masked_accuracy])\n",
    "'''\n",
    "transformer.compile(\n",
    "    optimizer='adam',\n",
    "    loss=tf.keras.losses.SparseCategoricalCrossentropy(from_logits=True),\n",
    "    metrics=['accuracy']\n",
    ")"
   ],
   "metadata": {
    "collapsed": false,
    "ExecuteTime": {
     "end_time": "2024-12-08T02:40:13.512359Z",
     "start_time": "2024-12-08T02:40:13.274377Z"
    }
   },
   "id": "af22051bce3c564e",
   "execution_count": 8
  },
  {
   "cell_type": "markdown",
   "source": [
    "train model"
   ],
   "metadata": {
    "collapsed": false
   },
   "id": "b95f512fcd86051f"
  },
  {
   "cell_type": "code",
   "outputs": [
    {
     "name": "stdout",
     "output_type": "stream",
     "text": [
      "Epoch 1/5\n",
      "1875/1875 [==============================] - 15580s 8s/step - loss: 0.1127 - accuracy: 0.9737\n",
      "Epoch 2/5\n",
      "1875/1875 [==============================] - 15407s 8s/step - loss: 0.0066 - accuracy: 0.9985\n",
      "Epoch 3/5\n",
      "1875/1875 [==============================] - 15364s 8s/step - loss: 0.0017 - accuracy: 0.9997\n",
      "Epoch 4/5\n",
      "1875/1875 [==============================] - 15370s 8s/step - loss: 0.0037 - accuracy: 0.9992\n",
      "Epoch 5/5\n",
      "1875/1875 [==============================] - 15383s 8s/step - loss: 0.0025 - accuracy: 0.9992\n"
     ]
    },
    {
     "data": {
      "text/plain": "<keras.callbacks.History at 0x161693dc0>"
     },
     "execution_count": 9,
     "metadata": {},
     "output_type": "execute_result"
    }
   ],
   "source": [
    "transformer.fit((train_images, train_labels), train_labels, epochs=5)"
   ],
   "metadata": {
    "collapsed": false,
    "ExecuteTime": {
     "end_time": "2024-12-09T00:05:18.755770Z",
     "start_time": "2024-12-08T02:40:13.514382Z"
    }
   },
   "id": "ca638f16ff2540d5",
   "execution_count": 9
  },
  {
   "cell_type": "markdown",
   "source": [
    "test model"
   ],
   "metadata": {
    "collapsed": false
   },
   "id": "23c3c1fe1acd94e5"
  },
  {
   "cell_type": "code",
   "outputs": [
    {
     "name": "stdout",
     "output_type": "stream",
     "text": [
      "313/313 - 1111s - loss: 2.1484e-05 - accuracy: 1.0000 - 1111s/epoch - 4s/step\n",
      "\n",
      "Test accuracy: 1.0\n"
     ]
    }
   ],
   "source": [
    "test_loss, test_acc = transformer.evaluate((test_images, test_labels), test_labels, verbose=2)\n",
    "\n",
    "print('\\nTest accuracy:', test_acc)"
   ],
   "metadata": {
    "collapsed": false,
    "ExecuteTime": {
     "end_time": "2024-12-09T00:23:50.666873Z",
     "start_time": "2024-12-09T00:05:18.778943Z"
    }
   },
   "id": "327a4f97c7d62b1b",
   "execution_count": 10
  }
 ],
 "metadata": {
  "kernelspec": {
   "display_name": "Python 3",
   "language": "python",
   "name": "python3"
  },
  "language_info": {
   "codemirror_mode": {
    "name": "ipython",
    "version": 2
   },
   "file_extension": ".py",
   "mimetype": "text/x-python",
   "name": "python",
   "nbconvert_exporter": "python",
   "pygments_lexer": "ipython2",
   "version": "2.7.6"
  }
 },
 "nbformat": 4,
 "nbformat_minor": 5
}
